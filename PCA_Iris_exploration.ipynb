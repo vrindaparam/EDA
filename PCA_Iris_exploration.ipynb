{
 "metadata": {
  "interpreter": {
   "hash": "625da06b80329d0829f7fac7255db0074b28a8384e19978863a7b257a844d1b9"
  },
  "kernelspec": {
   "display_name": "Python 3.10.0",
   "language": "python",
   "name": "python3"
  },
  "language_info": {
   "codemirror_mode": {
    "name": "ipython",
    "version": 3
   },
   "file_extension": ".py",
   "mimetype": "text/x-python",
   "name": "python",
   "nbconvert_exporter": "python",
   "pygments_lexer": "ipython3",
   "version": "3.10.0"
  },
  "name": ""
 },
 "nbformat": 3,
 "nbformat_minor": 0,
 "worksheets": [
  {
   "cells": [
    {
     "cell_type": "markdown",
     "metadata": {},
     "source": [
      "# PCA Exploration with Iris dataset\n",
      "## This notebook outlines the PCA usage in Scikit-learn\n",
      "### Note: Please make mistakes and learn from it. Do not hesitate to make mistakes."
     ]
    },
    {
     "cell_type": "heading",
     "level": 3,
     "metadata": {},
     "source": [
      "Lets load Iris dataset"
     ]
    },
    {
     "cell_type": "code",
     "collapsed": false,
     "input": [
      "from sklearn.datasets import load_iris"
     ],
     "language": "python",
     "metadata": {},
     "outputs": [],
     "prompt_number": 1
    },
    {
     "cell_type": "code",
     "collapsed": false,
     "input": [
      "iris = load_iris()"
     ],
     "language": "python",
     "metadata": {},
     "outputs": [],
     "prompt_number": 2
    },
    {
     "cell_type": "code",
     "collapsed": false,
     "input": [
      "iris"
     ],
     "language": "python",
     "metadata": {},
     "outputs": [
      {
       "output_type": "pyout",
       "prompt_number": 3,
       "text": [
        "{'data': array([[5.1, 3.5, 1.4, 0.2],\n",
        "        [4.9, 3. , 1.4, 0.2],\n",
        "        [4.7, 3.2, 1.3, 0.2],\n",
        "        [4.6, 3.1, 1.5, 0.2],\n",
        "        [5. , 3.6, 1.4, 0.2],\n",
        "        [5.4, 3.9, 1.7, 0.4],\n",
        "        [4.6, 3.4, 1.4, 0.3],\n",
        "        [5. , 3.4, 1.5, 0.2],\n",
        "        [4.4, 2.9, 1.4, 0.2],\n",
        "        [4.9, 3.1, 1.5, 0.1],\n",
        "        [5.4, 3.7, 1.5, 0.2],\n",
        "        [4.8, 3.4, 1.6, 0.2],\n",
        "        [4.8, 3. , 1.4, 0.1],\n",
        "        [4.3, 3. , 1.1, 0.1],\n",
        "        [5.8, 4. , 1.2, 0.2],\n",
        "        [5.7, 4.4, 1.5, 0.4],\n",
        "        [5.4, 3.9, 1.3, 0.4],\n",
        "        [5.1, 3.5, 1.4, 0.3],\n",
        "        [5.7, 3.8, 1.7, 0.3],\n",
        "        [5.1, 3.8, 1.5, 0.3],\n",
        "        [5.4, 3.4, 1.7, 0.2],\n",
        "        [5.1, 3.7, 1.5, 0.4],\n",
        "        [4.6, 3.6, 1. , 0.2],\n",
        "        [5.1, 3.3, 1.7, 0.5],\n",
        "        [4.8, 3.4, 1.9, 0.2],\n",
        "        [5. , 3. , 1.6, 0.2],\n",
        "        [5. , 3.4, 1.6, 0.4],\n",
        "        [5.2, 3.5, 1.5, 0.2],\n",
        "        [5.2, 3.4, 1.4, 0.2],\n",
        "        [4.7, 3.2, 1.6, 0.2],\n",
        "        [4.8, 3.1, 1.6, 0.2],\n",
        "        [5.4, 3.4, 1.5, 0.4],\n",
        "        [5.2, 4.1, 1.5, 0.1],\n",
        "        [5.5, 4.2, 1.4, 0.2],\n",
        "        [4.9, 3.1, 1.5, 0.2],\n",
        "        [5. , 3.2, 1.2, 0.2],\n",
        "        [5.5, 3.5, 1.3, 0.2],\n",
        "        [4.9, 3.6, 1.4, 0.1],\n",
        "        [4.4, 3. , 1.3, 0.2],\n",
        "        [5.1, 3.4, 1.5, 0.2],\n",
        "        [5. , 3.5, 1.3, 0.3],\n",
        "        [4.5, 2.3, 1.3, 0.3],\n",
        "        [4.4, 3.2, 1.3, 0.2],\n",
        "        [5. , 3.5, 1.6, 0.6],\n",
        "        [5.1, 3.8, 1.9, 0.4],\n",
        "        [4.8, 3. , 1.4, 0.3],\n",
        "        [5.1, 3.8, 1.6, 0.2],\n",
        "        [4.6, 3.2, 1.4, 0.2],\n",
        "        [5.3, 3.7, 1.5, 0.2],\n",
        "        [5. , 3.3, 1.4, 0.2],\n",
        "        [7. , 3.2, 4.7, 1.4],\n",
        "        [6.4, 3.2, 4.5, 1.5],\n",
        "        [6.9, 3.1, 4.9, 1.5],\n",
        "        [5.5, 2.3, 4. , 1.3],\n",
        "        [6.5, 2.8, 4.6, 1.5],\n",
        "        [5.7, 2.8, 4.5, 1.3],\n",
        "        [6.3, 3.3, 4.7, 1.6],\n",
        "        [4.9, 2.4, 3.3, 1. ],\n",
        "        [6.6, 2.9, 4.6, 1.3],\n",
        "        [5.2, 2.7, 3.9, 1.4],\n",
        "        [5. , 2. , 3.5, 1. ],\n",
        "        [5.9, 3. , 4.2, 1.5],\n",
        "        [6. , 2.2, 4. , 1. ],\n",
        "        [6.1, 2.9, 4.7, 1.4],\n",
        "        [5.6, 2.9, 3.6, 1.3],\n",
        "        [6.7, 3.1, 4.4, 1.4],\n",
        "        [5.6, 3. , 4.5, 1.5],\n",
        "        [5.8, 2.7, 4.1, 1. ],\n",
        "        [6.2, 2.2, 4.5, 1.5],\n",
        "        [5.6, 2.5, 3.9, 1.1],\n",
        "        [5.9, 3.2, 4.8, 1.8],\n",
        "        [6.1, 2.8, 4. , 1.3],\n",
        "        [6.3, 2.5, 4.9, 1.5],\n",
        "        [6.1, 2.8, 4.7, 1.2],\n",
        "        [6.4, 2.9, 4.3, 1.3],\n",
        "        [6.6, 3. , 4.4, 1.4],\n",
        "        [6.8, 2.8, 4.8, 1.4],\n",
        "        [6.7, 3. , 5. , 1.7],\n",
        "        [6. , 2.9, 4.5, 1.5],\n",
        "        [5.7, 2.6, 3.5, 1. ],\n",
        "        [5.5, 2.4, 3.8, 1.1],\n",
        "        [5.5, 2.4, 3.7, 1. ],\n",
        "        [5.8, 2.7, 3.9, 1.2],\n",
        "        [6. , 2.7, 5.1, 1.6],\n",
        "        [5.4, 3. , 4.5, 1.5],\n",
        "        [6. , 3.4, 4.5, 1.6],\n",
        "        [6.7, 3.1, 4.7, 1.5],\n",
        "        [6.3, 2.3, 4.4, 1.3],\n",
        "        [5.6, 3. , 4.1, 1.3],\n",
        "        [5.5, 2.5, 4. , 1.3],\n",
        "        [5.5, 2.6, 4.4, 1.2],\n",
        "        [6.1, 3. , 4.6, 1.4],\n",
        "        [5.8, 2.6, 4. , 1.2],\n",
        "        [5. , 2.3, 3.3, 1. ],\n",
        "        [5.6, 2.7, 4.2, 1.3],\n",
        "        [5.7, 3. , 4.2, 1.2],\n",
        "        [5.7, 2.9, 4.2, 1.3],\n",
        "        [6.2, 2.9, 4.3, 1.3],\n",
        "        [5.1, 2.5, 3. , 1.1],\n",
        "        [5.7, 2.8, 4.1, 1.3],\n",
        "        [6.3, 3.3, 6. , 2.5],\n",
        "        [5.8, 2.7, 5.1, 1.9],\n",
        "        [7.1, 3. , 5.9, 2.1],\n",
        "        [6.3, 2.9, 5.6, 1.8],\n",
        "        [6.5, 3. , 5.8, 2.2],\n",
        "        [7.6, 3. , 6.6, 2.1],\n",
        "        [4.9, 2.5, 4.5, 1.7],\n",
        "        [7.3, 2.9, 6.3, 1.8],\n",
        "        [6.7, 2.5, 5.8, 1.8],\n",
        "        [7.2, 3.6, 6.1, 2.5],\n",
        "        [6.5, 3.2, 5.1, 2. ],\n",
        "        [6.4, 2.7, 5.3, 1.9],\n",
        "        [6.8, 3. , 5.5, 2.1],\n",
        "        [5.7, 2.5, 5. , 2. ],\n",
        "        [5.8, 2.8, 5.1, 2.4],\n",
        "        [6.4, 3.2, 5.3, 2.3],\n",
        "        [6.5, 3. , 5.5, 1.8],\n",
        "        [7.7, 3.8, 6.7, 2.2],\n",
        "        [7.7, 2.6, 6.9, 2.3],\n",
        "        [6. , 2.2, 5. , 1.5],\n",
        "        [6.9, 3.2, 5.7, 2.3],\n",
        "        [5.6, 2.8, 4.9, 2. ],\n",
        "        [7.7, 2.8, 6.7, 2. ],\n",
        "        [6.3, 2.7, 4.9, 1.8],\n",
        "        [6.7, 3.3, 5.7, 2.1],\n",
        "        [7.2, 3.2, 6. , 1.8],\n",
        "        [6.2, 2.8, 4.8, 1.8],\n",
        "        [6.1, 3. , 4.9, 1.8],\n",
        "        [6.4, 2.8, 5.6, 2.1],\n",
        "        [7.2, 3. , 5.8, 1.6],\n",
        "        [7.4, 2.8, 6.1, 1.9],\n",
        "        [7.9, 3.8, 6.4, 2. ],\n",
        "        [6.4, 2.8, 5.6, 2.2],\n",
        "        [6.3, 2.8, 5.1, 1.5],\n",
        "        [6.1, 2.6, 5.6, 1.4],\n",
        "        [7.7, 3. , 6.1, 2.3],\n",
        "        [6.3, 3.4, 5.6, 2.4],\n",
        "        [6.4, 3.1, 5.5, 1.8],\n",
        "        [6. , 3. , 4.8, 1.8],\n",
        "        [6.9, 3.1, 5.4, 2.1],\n",
        "        [6.7, 3.1, 5.6, 2.4],\n",
        "        [6.9, 3.1, 5.1, 2.3],\n",
        "        [5.8, 2.7, 5.1, 1.9],\n",
        "        [6.8, 3.2, 5.9, 2.3],\n",
        "        [6.7, 3.3, 5.7, 2.5],\n",
        "        [6.7, 3. , 5.2, 2.3],\n",
        "        [6.3, 2.5, 5. , 1.9],\n",
        "        [6.5, 3. , 5.2, 2. ],\n",
        "        [6.2, 3.4, 5.4, 2.3],\n",
        "        [5.9, 3. , 5.1, 1.8]]),\n",
        " 'target': array([0, 0, 0, 0, 0, 0, 0, 0, 0, 0, 0, 0, 0, 0, 0, 0, 0, 0, 0, 0, 0, 0,\n",
        "        0, 0, 0, 0, 0, 0, 0, 0, 0, 0, 0, 0, 0, 0, 0, 0, 0, 0, 0, 0, 0, 0,\n",
        "        0, 0, 0, 0, 0, 0, 1, 1, 1, 1, 1, 1, 1, 1, 1, 1, 1, 1, 1, 1, 1, 1,\n",
        "        1, 1, 1, 1, 1, 1, 1, 1, 1, 1, 1, 1, 1, 1, 1, 1, 1, 1, 1, 1, 1, 1,\n",
        "        1, 1, 1, 1, 1, 1, 1, 1, 1, 1, 1, 1, 2, 2, 2, 2, 2, 2, 2, 2, 2, 2,\n",
        "        2, 2, 2, 2, 2, 2, 2, 2, 2, 2, 2, 2, 2, 2, 2, 2, 2, 2, 2, 2, 2, 2,\n",
        "        2, 2, 2, 2, 2, 2, 2, 2, 2, 2, 2, 2, 2, 2, 2, 2, 2, 2]),\n",
        " 'frame': None,\n",
        " 'target_names': array(['setosa', 'versicolor', 'virginica'], dtype='<U10'),\n",
        " 'DESCR': '.. _iris_dataset:\\n\\nIris plants dataset\\n--------------------\\n\\n**Data Set Characteristics:**\\n\\n    :Number of Instances: 150 (50 in each of three classes)\\n    :Number of Attributes: 4 numeric, predictive attributes and the class\\n    :Attribute Information:\\n        - sepal length in cm\\n        - sepal width in cm\\n        - petal length in cm\\n        - petal width in cm\\n        - class:\\n                - Iris-Setosa\\n                - Iris-Versicolour\\n                - Iris-Virginica\\n                \\n    :Summary Statistics:\\n\\n    ============== ==== ==== ======= ===== ====================\\n                    Min  Max   Mean    SD   Class Correlation\\n    ============== ==== ==== ======= ===== ====================\\n    sepal length:   4.3  7.9   5.84   0.83    0.7826\\n    sepal width:    2.0  4.4   3.05   0.43   -0.4194\\n    petal length:   1.0  6.9   3.76   1.76    0.9490  (high!)\\n    petal width:    0.1  2.5   1.20   0.76    0.9565  (high!)\\n    ============== ==== ==== ======= ===== ====================\\n\\n    :Missing Attribute Values: None\\n    :Class Distribution: 33.3% for each of 3 classes.\\n    :Creator: R.A. Fisher\\n    :Donor: Michael Marshall (MARSHALL%PLU@io.arc.nasa.gov)\\n    :Date: July, 1988\\n\\nThe famous Iris database, first used by Sir R.A. Fisher. The dataset is taken\\nfrom Fisher\\'s paper. Note that it\\'s the same as in R, but not as in the UCI\\nMachine Learning Repository, which has two wrong data points.\\n\\nThis is perhaps the best known database to be found in the\\npattern recognition literature.  Fisher\\'s paper is a classic in the field and\\nis referenced frequently to this day.  (See Duda & Hart, for example.)  The\\ndata set contains 3 classes of 50 instances each, where each class refers to a\\ntype of iris plant.  One class is linearly separable from the other 2; the\\nlatter are NOT linearly separable from each other.\\n\\n.. topic:: References\\n\\n   - Fisher, R.A. \"The use of multiple measurements in taxonomic problems\"\\n     Annual Eugenics, 7, Part II, 179-188 (1936); also in \"Contributions to\\n     Mathematical Statistics\" (John Wiley, NY, 1950).\\n   - Duda, R.O., & Hart, P.E. (1973) Pattern Classification and Scene Analysis.\\n     (Q327.D83) John Wiley & Sons.  ISBN 0-471-22361-1.  See page 218.\\n   - Dasarathy, B.V. (1980) \"Nosing Around the Neighborhood: A New System\\n     Structure and Classification Rule for Recognition in Partially Exposed\\n     Environments\".  IEEE Transactions on Pattern Analysis and Machine\\n     Intelligence, Vol. PAMI-2, No. 1, 67-71.\\n   - Gates, G.W. (1972) \"The Reduced Nearest Neighbor Rule\".  IEEE Transactions\\n     on Information Theory, May 1972, 431-433.\\n   - See also: 1988 MLC Proceedings, 54-64.  Cheeseman et al\"s AUTOCLASS II\\n     conceptual clustering system finds 3 classes in the data.\\n   - Many, many more ...',\n",
        " 'feature_names': ['sepal length (cm)',\n",
        "  'sepal width (cm)',\n",
        "  'petal length (cm)',\n",
        "  'petal width (cm)'],\n",
        " 'filename': 'iris.csv',\n",
        " 'data_module': 'sklearn.datasets.data'}"
       ]
      }
     ],
     "prompt_number": 3
    },
    {
     "cell_type": "code",
     "collapsed": false,
     "input": [
      "iris.keys()"
     ],
     "language": "python",
     "metadata": {},
     "outputs": [
      {
       "output_type": "pyout",
       "prompt_number": 4,
       "text": [
        "dict_keys(['data', 'target', 'frame', 'target_names', 'DESCR', 'feature_names', 'filename', 'data_module'])"
       ]
      }
     ],
     "prompt_number": 4
    },
    {
     "cell_type": "code",
     "collapsed": false,
     "input": [
      "type(iris)"
     ],
     "language": "python",
     "metadata": {},
     "outputs": [
      {
       "output_type": "pyout",
       "prompt_number": 5,
       "text": [
        "sklearn.utils.Bunch"
       ]
      }
     ],
     "prompt_number": 5
    },
    {
     "cell_type": "heading",
     "level": 3,
     "metadata": {},
     "source": [
      "Split the dataset into X and y"
     ]
    },
    {
     "cell_type": "code",
     "collapsed": false,
     "input": [
      "X = iris.data\n",
      "y = iris.target"
     ],
     "language": "python",
     "metadata": {},
     "outputs": [],
     "prompt_number": 6
    },
    {
     "cell_type": "code",
     "collapsed": false,
     "input": [
      "X.shape, y.shape"
     ],
     "language": "python",
     "metadata": {},
     "outputs": [
      {
       "output_type": "pyout",
       "prompt_number": 7,
       "text": [
        "((150, 4), (150,))"
       ]
      }
     ],
     "prompt_number": 7
    },
    {
     "cell_type": "heading",
     "level": 3,
     "metadata": {},
     "source": [
      "Choose PCA model"
     ]
    },
    {
     "cell_type": "code",
     "collapsed": false,
     "input": [
      "from sklearn.decomposition import PCA"
     ],
     "language": "python",
     "metadata": {},
     "outputs": [],
     "prompt_number": 8
    },
    {
     "cell_type": "heading",
     "level": 3,
     "metadata": {},
     "source": [
      "Create PCA model with hyperparameters"
     ]
    },
    {
     "cell_type": "code",
     "collapsed": false,
     "input": [
      "model = PCA(n_components=2)"
     ],
     "language": "python",
     "metadata": {},
     "outputs": [],
     "prompt_number": 9
    },
    {
     "cell_type": "heading",
     "level": 3,
     "metadata": {},
     "source": [
      "Train the model"
     ]
    },
    {
     "cell_type": "code",
     "collapsed": false,
     "input": [
      "model.fit(X)"
     ],
     "language": "python",
     "metadata": {},
     "outputs": [
      {
       "output_type": "pyout",
       "prompt_number": 10,
       "text": [
        "PCA(n_components=2)"
       ]
      }
     ],
     "prompt_number": 10
    },
    {
     "cell_type": "heading",
     "level": 3,
     "metadata": {},
     "source": [
      "Transform the model"
     ]
    },
    {
     "cell_type": "code",
     "collapsed": false,
     "input": [
      "X_2D = model.transform(X)"
     ],
     "language": "python",
     "metadata": {},
     "outputs": [],
     "prompt_number": 11
    },
    {
     "cell_type": "heading",
     "level": 3,
     "metadata": {},
     "source": [
      "Sanity check for Shapes of X and X_2D"
     ]
    },
    {
     "cell_type": "code",
     "collapsed": false,
     "input": [
      "X.shape, X_2D.shape"
     ],
     "language": "python",
     "metadata": {},
     "outputs": [
      {
       "output_type": "pyout",
       "prompt_number": 12,
       "text": [
        "((150, 4), (150, 2))"
       ]
      }
     ],
     "prompt_number": 12
    },
    {
     "cell_type": "heading",
     "level": 3,
     "metadata": {},
     "source": [
      "What's in X_2D?"
     ]
    },
    {
     "cell_type": "code",
     "collapsed": false,
     "input": [
      "X_2D"
     ],
     "language": "python",
     "metadata": {},
     "outputs": [
      {
       "output_type": "pyout",
       "prompt_number": 13,
       "text": [
        "array([[-2.68412563,  0.31939725],\n",
        "       [-2.71414169, -0.17700123],\n",
        "       [-2.88899057, -0.14494943],\n",
        "       [-2.74534286, -0.31829898],\n",
        "       [-2.72871654,  0.32675451],\n",
        "       [-2.28085963,  0.74133045],\n",
        "       [-2.82053775, -0.08946138],\n",
        "       [-2.62614497,  0.16338496],\n",
        "       [-2.88638273, -0.57831175],\n",
        "       [-2.6727558 , -0.11377425],\n",
        "       [-2.50694709,  0.6450689 ],\n",
        "       [-2.61275523,  0.01472994],\n",
        "       [-2.78610927, -0.235112  ],\n",
        "       [-3.22380374, -0.51139459],\n",
        "       [-2.64475039,  1.17876464],\n",
        "       [-2.38603903,  1.33806233],\n",
        "       [-2.62352788,  0.81067951],\n",
        "       [-2.64829671,  0.31184914],\n",
        "       [-2.19982032,  0.87283904],\n",
        "       [-2.5879864 ,  0.51356031],\n",
        "       [-2.31025622,  0.39134594],\n",
        "       [-2.54370523,  0.43299606],\n",
        "       [-3.21593942,  0.13346807],\n",
        "       [-2.30273318,  0.09870885],\n",
        "       [-2.35575405, -0.03728186],\n",
        "       [-2.50666891, -0.14601688],\n",
        "       [-2.46882007,  0.13095149],\n",
        "       [-2.56231991,  0.36771886],\n",
        "       [-2.63953472,  0.31203998],\n",
        "       [-2.63198939, -0.19696122],\n",
        "       [-2.58739848, -0.20431849],\n",
        "       [-2.4099325 ,  0.41092426],\n",
        "       [-2.64886233,  0.81336382],\n",
        "       [-2.59873675,  1.09314576],\n",
        "       [-2.63692688, -0.12132235],\n",
        "       [-2.86624165,  0.06936447],\n",
        "       [-2.62523805,  0.59937002],\n",
        "       [-2.80068412,  0.26864374],\n",
        "       [-2.98050204, -0.48795834],\n",
        "       [-2.59000631,  0.22904384],\n",
        "       [-2.77010243,  0.26352753],\n",
        "       [-2.84936871, -0.94096057],\n",
        "       [-2.99740655, -0.34192606],\n",
        "       [-2.40561449,  0.18887143],\n",
        "       [-2.20948924,  0.43666314],\n",
        "       [-2.71445143, -0.2502082 ],\n",
        "       [-2.53814826,  0.50377114],\n",
        "       [-2.83946217, -0.22794557],\n",
        "       [-2.54308575,  0.57941002],\n",
        "       [-2.70335978,  0.10770608],\n",
        "       [ 1.28482569,  0.68516047],\n",
        "       [ 0.93248853,  0.31833364],\n",
        "       [ 1.46430232,  0.50426282],\n",
        "       [ 0.18331772, -0.82795901],\n",
        "       [ 1.08810326,  0.07459068],\n",
        "       [ 0.64166908, -0.41824687],\n",
        "       [ 1.09506066,  0.28346827],\n",
        "       [-0.74912267, -1.00489096],\n",
        "       [ 1.04413183,  0.2283619 ],\n",
        "       [-0.0087454 , -0.72308191],\n",
        "       [-0.50784088, -1.26597119],\n",
        "       [ 0.51169856, -0.10398124],\n",
        "       [ 0.26497651, -0.55003646],\n",
        "       [ 0.98493451, -0.12481785],\n",
        "       [-0.17392537, -0.25485421],\n",
        "       [ 0.92786078,  0.46717949],\n",
        "       [ 0.66028376, -0.35296967],\n",
        "       [ 0.23610499, -0.33361077],\n",
        "       [ 0.94473373, -0.54314555],\n",
        "       [ 0.04522698, -0.58383438],\n",
        "       [ 1.11628318, -0.08461685],\n",
        "       [ 0.35788842, -0.06892503],\n",
        "       [ 1.29818388, -0.32778731],\n",
        "       [ 0.92172892, -0.18273779],\n",
        "       [ 0.71485333,  0.14905594],\n",
        "       [ 0.90017437,  0.32850447],\n",
        "       [ 1.33202444,  0.24444088],\n",
        "       [ 1.55780216,  0.26749545],\n",
        "       [ 0.81329065, -0.1633503 ],\n",
        "       [-0.30558378, -0.36826219],\n",
        "       [-0.06812649, -0.70517213],\n",
        "       [-0.18962247, -0.68028676],\n",
        "       [ 0.13642871, -0.31403244],\n",
        "       [ 1.38002644, -0.42095429],\n",
        "       [ 0.58800644, -0.48428742],\n",
        "       [ 0.80685831,  0.19418231],\n",
        "       [ 1.22069088,  0.40761959],\n",
        "       [ 0.81509524, -0.37203706],\n",
        "       [ 0.24595768, -0.2685244 ],\n",
        "       [ 0.16641322, -0.68192672],\n",
        "       [ 0.46480029, -0.67071154],\n",
        "       [ 0.8908152 , -0.03446444],\n",
        "       [ 0.23054802, -0.40438585],\n",
        "       [-0.70453176, -1.01224823],\n",
        "       [ 0.35698149, -0.50491009],\n",
        "       [ 0.33193448, -0.21265468],\n",
        "       [ 0.37621565, -0.29321893],\n",
        "       [ 0.64257601,  0.01773819],\n",
        "       [-0.90646986, -0.75609337],\n",
        "       [ 0.29900084, -0.34889781],\n",
        "       [ 2.53119273, -0.00984911],\n",
        "       [ 1.41523588, -0.57491635],\n",
        "       [ 2.61667602,  0.34390315],\n",
        "       [ 1.97153105, -0.1797279 ],\n",
        "       [ 2.35000592, -0.04026095],\n",
        "       [ 3.39703874,  0.55083667],\n",
        "       [ 0.52123224, -1.19275873],\n",
        "       [ 2.93258707,  0.3555    ],\n",
        "       [ 2.32122882, -0.2438315 ],\n",
        "       [ 2.91675097,  0.78279195],\n",
        "       [ 1.66177415,  0.24222841],\n",
        "       [ 1.80340195, -0.21563762],\n",
        "       [ 2.1655918 ,  0.21627559],\n",
        "       [ 1.34616358, -0.77681835],\n",
        "       [ 1.58592822, -0.53964071],\n",
        "       [ 1.90445637,  0.11925069],\n",
        "       [ 1.94968906,  0.04194326],\n",
        "       [ 3.48705536,  1.17573933],\n",
        "       [ 3.79564542,  0.25732297],\n",
        "       [ 1.30079171, -0.76114964],\n",
        "       [ 2.42781791,  0.37819601],\n",
        "       [ 1.19900111, -0.60609153],\n",
        "       [ 3.49992004,  0.4606741 ],\n",
        "       [ 1.38876613, -0.20439933],\n",
        "       [ 2.2754305 ,  0.33499061],\n",
        "       [ 2.61409047,  0.56090136],\n",
        "       [ 1.25850816, -0.17970479],\n",
        "       [ 1.29113206, -0.11666865],\n",
        "       [ 2.12360872, -0.20972948],\n",
        "       [ 2.38800302,  0.4646398 ],\n",
        "       [ 2.84167278,  0.37526917],\n",
        "       [ 3.23067366,  1.37416509],\n",
        "       [ 2.15943764, -0.21727758],\n",
        "       [ 1.44416124, -0.14341341],\n",
        "       [ 1.78129481, -0.49990168],\n",
        "       [ 3.07649993,  0.68808568],\n",
        "       [ 2.14424331,  0.1400642 ],\n",
        "       [ 1.90509815,  0.04930053],\n",
        "       [ 1.16932634, -0.16499026],\n",
        "       [ 2.10761114,  0.37228787],\n",
        "       [ 2.31415471,  0.18365128],\n",
        "       [ 1.9222678 ,  0.40920347],\n",
        "       [ 1.41523588, -0.57491635],\n",
        "       [ 2.56301338,  0.2778626 ],\n",
        "       [ 2.41874618,  0.3047982 ],\n",
        "       [ 1.94410979,  0.1875323 ],\n",
        "       [ 1.52716661, -0.37531698],\n",
        "       [ 1.76434572,  0.07885885],\n",
        "       [ 1.90094161,  0.11662796],\n",
        "       [ 1.39018886, -0.28266094]])"
       ]
      }
     ],
     "prompt_number": 13
    },
    {
     "cell_type": "markdown",
     "metadata": {},
     "source": [
      "### Lets plot\n",
      "### Store the 1st column in PCA1"
     ]
    },
    {
     "cell_type": "code",
     "collapsed": false,
     "input": [
      "iris['PCA1'] = X_2D[:, 0]\n",
      "iris['PCA1']"
     ],
     "language": "python",
     "metadata": {},
     "outputs": [
      {
       "output_type": "pyout",
       "prompt_number": 14,
       "text": [
        "array([-2.68412563, -2.71414169, -2.88899057, -2.74534286, -2.72871654,\n",
        "       -2.28085963, -2.82053775, -2.62614497, -2.88638273, -2.6727558 ,\n",
        "       -2.50694709, -2.61275523, -2.78610927, -3.22380374, -2.64475039,\n",
        "       -2.38603903, -2.62352788, -2.64829671, -2.19982032, -2.5879864 ,\n",
        "       -2.31025622, -2.54370523, -3.21593942, -2.30273318, -2.35575405,\n",
        "       -2.50666891, -2.46882007, -2.56231991, -2.63953472, -2.63198939,\n",
        "       -2.58739848, -2.4099325 , -2.64886233, -2.59873675, -2.63692688,\n",
        "       -2.86624165, -2.62523805, -2.80068412, -2.98050204, -2.59000631,\n",
        "       -2.77010243, -2.84936871, -2.99740655, -2.40561449, -2.20948924,\n",
        "       -2.71445143, -2.53814826, -2.83946217, -2.54308575, -2.70335978,\n",
        "        1.28482569,  0.93248853,  1.46430232,  0.18331772,  1.08810326,\n",
        "        0.64166908,  1.09506066, -0.74912267,  1.04413183, -0.0087454 ,\n",
        "       -0.50784088,  0.51169856,  0.26497651,  0.98493451, -0.17392537,\n",
        "        0.92786078,  0.66028376,  0.23610499,  0.94473373,  0.04522698,\n",
        "        1.11628318,  0.35788842,  1.29818388,  0.92172892,  0.71485333,\n",
        "        0.90017437,  1.33202444,  1.55780216,  0.81329065, -0.30558378,\n",
        "       -0.06812649, -0.18962247,  0.13642871,  1.38002644,  0.58800644,\n",
        "        0.80685831,  1.22069088,  0.81509524,  0.24595768,  0.16641322,\n",
        "        0.46480029,  0.8908152 ,  0.23054802, -0.70453176,  0.35698149,\n",
        "        0.33193448,  0.37621565,  0.64257601, -0.90646986,  0.29900084,\n",
        "        2.53119273,  1.41523588,  2.61667602,  1.97153105,  2.35000592,\n",
        "        3.39703874,  0.52123224,  2.93258707,  2.32122882,  2.91675097,\n",
        "        1.66177415,  1.80340195,  2.1655918 ,  1.34616358,  1.58592822,\n",
        "        1.90445637,  1.94968906,  3.48705536,  3.79564542,  1.30079171,\n",
        "        2.42781791,  1.19900111,  3.49992004,  1.38876613,  2.2754305 ,\n",
        "        2.61409047,  1.25850816,  1.29113206,  2.12360872,  2.38800302,\n",
        "        2.84167278,  3.23067366,  2.15943764,  1.44416124,  1.78129481,\n",
        "        3.07649993,  2.14424331,  1.90509815,  1.16932634,  2.10761114,\n",
        "        2.31415471,  1.9222678 ,  1.41523588,  2.56301338,  2.41874618,\n",
        "        1.94410979,  1.52716661,  1.76434572,  1.90094161,  1.39018886])"
       ]
      }
     ],
     "prompt_number": 14
    },
    {
     "cell_type": "heading",
     "level": 3,
     "metadata": {},
     "source": [
      "Store the 2nd column in PCA2"
     ]
    },
    {
     "cell_type": "code",
     "collapsed": false,
     "input": [
      "iris['PCA2'] = X_2D[:, 1]"
     ],
     "language": "python",
     "metadata": {},
     "outputs": [],
     "prompt_number": 15
    },
    {
     "cell_type": "heading",
     "level": 3,
     "metadata": {},
     "source": [
      "Okay, lets plot using seaborn"
     ]
    },
    {
     "cell_type": "code",
     "collapsed": false,
     "input": [
      "import seaborn as sns"
     ],
     "language": "python",
     "metadata": {},
     "outputs": [],
     "prompt_number": 16
    },
    {
     "cell_type": "heading",
     "level": 3,
     "metadata": {},
     "source": [
      "lmplot "
     ]
    },
    {
     "cell_type": "code",
     "collapsed": false,
     "input": [
      "sns.lmplot(\"PCA1\", \"PCA2\", hue=\"species\", data=iris)"
     ],
     "language": "python",
     "metadata": {},
     "outputs": [
      {
       "output_type": "stream",
       "stream": "stderr",
       "text": [
        "/Users/vrinda/opt/anaconda3/envs/py3_10/lib/python3.10/site-packages/seaborn/_decorators.py:36: FutureWarning: Pass the following variables as keyword args: x, y. From version 0.12, the only valid positional argument will be `data`, and passing other arguments without an explicit keyword will result in an error or misinterpretation.\n",
        "  warnings.warn(\n"
       ]
      },
      {
       "ename": "TypeError",
       "evalue": "unhashable type: 'list'",
       "output_type": "pyerr",
       "traceback": [
        "\u001b[0;31m---------------------------------------------------------------------------\u001b[0m",
        "\u001b[0;31mTypeError\u001b[0m                                 Traceback (most recent call last)",
        "\u001b[0;32m/var/folders/8y/s4q4z6k56mg49b_fkzjn68dm0000gn/T/ipykernel_9485/1847902101.py\u001b[0m in \u001b[0;36m<module>\u001b[0;34m\u001b[0m\n\u001b[0;32m----> 1\u001b[0;31m \u001b[0msns\u001b[0m\u001b[0;34m.\u001b[0m\u001b[0mlmplot\u001b[0m\u001b[0;34m(\u001b[0m\u001b[0;34m\"PCA1\"\u001b[0m\u001b[0;34m,\u001b[0m \u001b[0;34m\"PCA2\"\u001b[0m\u001b[0;34m,\u001b[0m \u001b[0mhue\u001b[0m\u001b[0;34m=\u001b[0m\u001b[0;34m\"species\"\u001b[0m\u001b[0;34m,\u001b[0m \u001b[0mdata\u001b[0m\u001b[0;34m=\u001b[0m\u001b[0miris\u001b[0m\u001b[0;34m)\u001b[0m\u001b[0;34m\u001b[0m\u001b[0;34m\u001b[0m\u001b[0m\n\u001b[0m",
        "\u001b[0;32m~/opt/anaconda3/envs/py3_10/lib/python3.10/site-packages/seaborn/_decorators.py\u001b[0m in \u001b[0;36minner_f\u001b[0;34m(*args, **kwargs)\u001b[0m\n\u001b[1;32m     44\u001b[0m             )\n\u001b[1;32m     45\u001b[0m         \u001b[0mkwargs\u001b[0m\u001b[0;34m.\u001b[0m\u001b[0mupdate\u001b[0m\u001b[0;34m(\u001b[0m\u001b[0;34m{\u001b[0m\u001b[0mk\u001b[0m\u001b[0;34m:\u001b[0m \u001b[0marg\u001b[0m \u001b[0;32mfor\u001b[0m \u001b[0mk\u001b[0m\u001b[0;34m,\u001b[0m \u001b[0marg\u001b[0m \u001b[0;32min\u001b[0m \u001b[0mzip\u001b[0m\u001b[0;34m(\u001b[0m\u001b[0msig\u001b[0m\u001b[0;34m.\u001b[0m\u001b[0mparameters\u001b[0m\u001b[0;34m,\u001b[0m \u001b[0margs\u001b[0m\u001b[0;34m)\u001b[0m\u001b[0;34m}\u001b[0m\u001b[0;34m)\u001b[0m\u001b[0;34m\u001b[0m\u001b[0;34m\u001b[0m\u001b[0m\n\u001b[0;32m---> 46\u001b[0;31m         \u001b[0;32mreturn\u001b[0m \u001b[0mf\u001b[0m\u001b[0;34m(\u001b[0m\u001b[0;34m**\u001b[0m\u001b[0mkwargs\u001b[0m\u001b[0;34m)\u001b[0m\u001b[0;34m\u001b[0m\u001b[0;34m\u001b[0m\u001b[0m\n\u001b[0m\u001b[1;32m     47\u001b[0m     \u001b[0;32mreturn\u001b[0m \u001b[0minner_f\u001b[0m\u001b[0;34m\u001b[0m\u001b[0;34m\u001b[0m\u001b[0m\n\u001b[1;32m     48\u001b[0m \u001b[0;34m\u001b[0m\u001b[0m\n",
        "\u001b[0;32m~/opt/anaconda3/envs/py3_10/lib/python3.10/site-packages/seaborn/regression.py\u001b[0m in \u001b[0;36mlmplot\u001b[0;34m(x, y, data, hue, col, row, palette, col_wrap, height, aspect, markers, sharex, sharey, hue_order, col_order, row_order, legend, legend_out, x_estimator, x_bins, x_ci, scatter, fit_reg, ci, n_boot, units, seed, order, logistic, lowess, robust, logx, x_partial, y_partial, truncate, x_jitter, y_jitter, scatter_kws, line_kws, facet_kws, size)\u001b[0m\n\u001b[1;32m    603\u001b[0m     \u001b[0mneed_cols\u001b[0m \u001b[0;34m=\u001b[0m \u001b[0;34m[\u001b[0m\u001b[0mx\u001b[0m\u001b[0;34m,\u001b[0m \u001b[0my\u001b[0m\u001b[0;34m,\u001b[0m \u001b[0mhue\u001b[0m\u001b[0;34m,\u001b[0m \u001b[0mcol\u001b[0m\u001b[0;34m,\u001b[0m \u001b[0mrow\u001b[0m\u001b[0;34m,\u001b[0m \u001b[0munits\u001b[0m\u001b[0;34m,\u001b[0m \u001b[0mx_partial\u001b[0m\u001b[0;34m,\u001b[0m \u001b[0my_partial\u001b[0m\u001b[0;34m]\u001b[0m\u001b[0;34m\u001b[0m\u001b[0;34m\u001b[0m\u001b[0m\n\u001b[1;32m    604\u001b[0m     \u001b[0mcols\u001b[0m \u001b[0;34m=\u001b[0m \u001b[0mnp\u001b[0m\u001b[0;34m.\u001b[0m\u001b[0munique\u001b[0m\u001b[0;34m(\u001b[0m\u001b[0;34m[\u001b[0m\u001b[0ma\u001b[0m \u001b[0;32mfor\u001b[0m \u001b[0ma\u001b[0m \u001b[0;32min\u001b[0m \u001b[0mneed_cols\u001b[0m \u001b[0;32mif\u001b[0m \u001b[0ma\u001b[0m \u001b[0;32mis\u001b[0m \u001b[0;32mnot\u001b[0m \u001b[0;32mNone\u001b[0m\u001b[0;34m]\u001b[0m\u001b[0;34m)\u001b[0m\u001b[0;34m.\u001b[0m\u001b[0mtolist\u001b[0m\u001b[0;34m(\u001b[0m\u001b[0;34m)\u001b[0m\u001b[0;34m\u001b[0m\u001b[0;34m\u001b[0m\u001b[0m\n\u001b[0;32m--> 605\u001b[0;31m     \u001b[0mdata\u001b[0m \u001b[0;34m=\u001b[0m \u001b[0mdata\u001b[0m\u001b[0;34m[\u001b[0m\u001b[0mcols\u001b[0m\u001b[0;34m]\u001b[0m\u001b[0;34m\u001b[0m\u001b[0;34m\u001b[0m\u001b[0m\n\u001b[0m\u001b[1;32m    606\u001b[0m \u001b[0;34m\u001b[0m\u001b[0m\n\u001b[1;32m    607\u001b[0m     \u001b[0;31m# Initialize the grid\u001b[0m\u001b[0;34m\u001b[0m\u001b[0;34m\u001b[0m\u001b[0m\n",
        "\u001b[0;31mTypeError\u001b[0m: unhashable type: 'list'"
       ]
      }
     ],
     "prompt_number": 17
    },
    {
     "cell_type": "heading",
     "level": 3,
     "metadata": {},
     "source": [
      "What's the issue here?"
     ]
    },
    {
     "cell_type": "code",
     "collapsed": false,
     "input": [
      "type(iris.data)"
     ],
     "language": "python",
     "metadata": {},
     "outputs": [],
     "prompt_number": null
    },
    {
     "cell_type": "code",
     "collapsed": false,
     "input": [
      "import pandas as pd"
     ],
     "language": "python",
     "metadata": {},
     "outputs": [],
     "prompt_number": null
    },
    {
     "cell_type": "code",
     "collapsed": false,
     "input": [
      "df = pd.DataFrame(iris.data)\n",
      "df.head()"
     ],
     "language": "python",
     "metadata": {},
     "outputs": [],
     "prompt_number": null
    },
    {
     "cell_type": "code",
     "collapsed": false,
     "input": [],
     "language": "python",
     "metadata": {},
     "outputs": [],
     "prompt_number": null
    },
    {
     "cell_type": "code",
     "collapsed": false,
     "input": [],
     "language": "python",
     "metadata": {},
     "outputs": [],
     "prompt_number": null
    },
    {
     "cell_type": "code",
     "collapsed": false,
     "input": [],
     "language": "python",
     "metadata": {},
     "outputs": [],
     "prompt_number": null
    },
    {
     "cell_type": "code",
     "collapsed": false,
     "input": [],
     "language": "python",
     "metadata": {},
     "outputs": [],
     "prompt_number": null
    },
    {
     "cell_type": "code",
     "collapsed": false,
     "input": [],
     "language": "python",
     "metadata": {},
     "outputs": [],
     "prompt_number": null
    },
    {
     "cell_type": "code",
     "collapsed": false,
     "input": [],
     "language": "python",
     "metadata": {},
     "outputs": [],
     "prompt_number": null
    },
    {
     "cell_type": "code",
     "collapsed": false,
     "input": [],
     "language": "python",
     "metadata": {},
     "outputs": [],
     "prompt_number": null
    },
    {
     "cell_type": "heading",
     "level": 3,
     "metadata": {},
     "source": [
      "Import the libraries"
     ]
    },
    {
     "cell_type": "code",
     "collapsed": false,
     "input": [
      "import seaborn as sns"
     ],
     "language": "python",
     "metadata": {},
     "outputs": [],
     "prompt_number": null
    },
    {
     "cell_type": "heading",
     "level": 3,
     "metadata": {},
     "source": [
      "Load the Iris dataset"
     ]
    },
    {
     "cell_type": "code",
     "collapsed": false,
     "input": [
      "iris = sns.load_dataset(\"iris\")"
     ],
     "language": "python",
     "metadata": {
      "scrolled": true
     },
     "outputs": [],
     "prompt_number": null
    },
    {
     "cell_type": "heading",
     "level": 3,
     "metadata": {},
     "source": [
      "Prepare the dataset into X and y"
     ]
    },
    {
     "cell_type": "code",
     "collapsed": false,
     "input": [
      "type(iris)"
     ],
     "language": "python",
     "metadata": {},
     "outputs": [],
     "prompt_number": null
    },
    {
     "cell_type": "code",
     "collapsed": false,
     "input": [
      "iris"
     ],
     "language": "python",
     "metadata": {},
     "outputs": [],
     "prompt_number": null
    },
    {
     "cell_type": "code",
     "collapsed": false,
     "input": [
      "X = iris[['sepal_length', 'sepal_width', 'petal_length', 'petal_width']]\n",
      "X.head()"
     ],
     "language": "python",
     "metadata": {},
     "outputs": [],
     "prompt_number": null
    },
    {
     "cell_type": "code",
     "collapsed": false,
     "input": [
      "y = iris[['species']]\n",
      "y.head()"
     ],
     "language": "python",
     "metadata": {},
     "outputs": [],
     "prompt_number": null
    },
    {
     "cell_type": "code",
     "collapsed": false,
     "input": [],
     "language": "python",
     "metadata": {},
     "outputs": [],
     "prompt_number": null
    },
    {
     "cell_type": "code",
     "collapsed": false,
     "input": [],
     "language": "python",
     "metadata": {},
     "outputs": [],
     "prompt_number": null
    },
    {
     "cell_type": "heading",
     "level": 3,
     "metadata": {},
     "source": [
      "PCA"
     ]
    },
    {
     "cell_type": "code",
     "collapsed": false,
     "input": [
      "from sklearn.decomposition import PCA"
     ],
     "language": "python",
     "metadata": {},
     "outputs": [],
     "prompt_number": null
    },
    {
     "cell_type": "heading",
     "level": 3,
     "metadata": {},
     "source": [
      "Create PCA model with appropriate hyperparameters"
     ]
    },
    {
     "cell_type": "code",
     "collapsed": false,
     "input": [
      "model = PCA(n_components = 2)"
     ],
     "language": "python",
     "metadata": {},
     "outputs": [],
     "prompt_number": null
    },
    {
     "cell_type": "heading",
     "level": 3,
     "metadata": {},
     "source": [
      "Train the model"
     ]
    },
    {
     "cell_type": "code",
     "collapsed": false,
     "input": [
      "model.fit(X)"
     ],
     "language": "python",
     "metadata": {},
     "outputs": [],
     "prompt_number": null
    },
    {
     "cell_type": "heading",
     "level": 3,
     "metadata": {},
     "source": [
      "Transform the data"
     ]
    },
    {
     "cell_type": "code",
     "collapsed": false,
     "input": [
      "X_2D = model.transform(X)"
     ],
     "language": "python",
     "metadata": {},
     "outputs": [],
     "prompt_number": null
    },
    {
     "cell_type": "heading",
     "level": 3,
     "metadata": {},
     "source": [
      "Exploring the values"
     ]
    },
    {
     "cell_type": "code",
     "collapsed": false,
     "input": [
      "X_2D.shape"
     ],
     "language": "python",
     "metadata": {},
     "outputs": [],
     "prompt_number": null
    },
    {
     "cell_type": "code",
     "collapsed": false,
     "input": [
      "X.shape"
     ],
     "language": "python",
     "metadata": {},
     "outputs": [],
     "prompt_number": null
    },
    {
     "cell_type": "code",
     "collapsed": false,
     "input": [],
     "language": "python",
     "metadata": {},
     "outputs": [],
     "prompt_number": null
    },
    {
     "cell_type": "code",
     "collapsed": false,
     "input": [],
     "language": "python",
     "metadata": {},
     "outputs": [],
     "prompt_number": null
    },
    {
     "cell_type": "heading",
     "level": 3,
     "metadata": {},
     "source": [
      "Prepare the data for plotting"
     ]
    },
    {
     "cell_type": "code",
     "collapsed": false,
     "input": [
      "import seaborn as sns"
     ],
     "language": "python",
     "metadata": {},
     "outputs": [],
     "prompt_number": null
    },
    {
     "cell_type": "code",
     "collapsed": false,
     "input": [
      "iris"
     ],
     "language": "python",
     "metadata": {},
     "outputs": [],
     "prompt_number": null
    },
    {
     "cell_type": "code",
     "collapsed": false,
     "input": [
      "iris['PCA1'] = X_2D[:, 0]\n",
      "iris['PCA2'] = X_2D[:, 1]"
     ],
     "language": "python",
     "metadata": {},
     "outputs": [],
     "prompt_number": null
    },
    {
     "cell_type": "code",
     "collapsed": false,
     "input": [
      "iris"
     ],
     "language": "python",
     "metadata": {},
     "outputs": [],
     "prompt_number": null
    },
    {
     "cell_type": "code",
     "collapsed": false,
     "input": [],
     "language": "python",
     "metadata": {},
     "outputs": [],
     "prompt_number": null
    },
    {
     "cell_type": "heading",
     "level": 3,
     "metadata": {},
     "source": [
      "Plot the data points with the two most principal components (PCA1 & PCA2)"
     ]
    },
    {
     "cell_type": "code",
     "collapsed": false,
     "input": [
      "sns.lmplot(\"PCA1\", \"PCA2\", hue='species', data=iris, fit_reg=False)"
     ],
     "language": "python",
     "metadata": {},
     "outputs": [],
     "prompt_number": null
    },
    {
     "cell_type": "code",
     "collapsed": false,
     "input": [],
     "language": "python",
     "metadata": {},
     "outputs": [],
     "prompt_number": null
    }
   ],
   "metadata": {}
  }
 ]
}
