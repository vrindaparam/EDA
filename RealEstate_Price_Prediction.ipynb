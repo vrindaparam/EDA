{
 "metadata": {
  "kernelspec": {
   "display_name": "testing",
   "language": "python",
   "name": "testing"
  },
  "language_info": {
   "codemirror_mode": {
    "name": "ipython",
    "version": 3
   },
   "file_extension": ".py",
   "mimetype": "text/x-python",
   "name": "python",
   "nbconvert_exporter": "python",
   "pygments_lexer": "ipython3",
   "version": "3.8.5"
  },
  "name": ""
 },
 "nbformat": 3,
 "nbformat_minor": 0,
 "worksheets": [
  {
   "cells": [
    {
     "cell_type": "markdown",
     "metadata": {},
     "source": [
      "Predicting Real Estate House Prices"
     ]
    },
    {
     "cell_type": "heading",
     "level": 2,
     "metadata": {},
     "source": [
      "This task is build a Linear Regression model for a provided dataset"
     ]
    },
    {
     "cell_type": "heading",
     "level": 3,
     "metadata": {},
     "source": [
      "Dataset: Real_estate.csv"
     ]
    },
    {
     "cell_type": "markdown",
     "metadata": {},
     "source": [
      "### Import the necessary libraries\n",
      "#### Hint: Also import seaborn"
     ]
    },
    {
     "cell_type": "code",
     "collapsed": false,
     "input": [
      "import numpy as np \n",
      "import pandas as pd \n",
      "import seaborn as sns"
     ],
     "language": "python",
     "metadata": {},
     "outputs": [],
     "prompt_number": 1
    },
    {
     "cell_type": "heading",
     "level": 3,
     "metadata": {},
     "source": [
      "Read the csv data into a pandas dataframe and display the first 5 samples"
     ]
    },
    {
     "cell_type": "code",
     "collapsed": false,
     "input": [
      "df = pd.read_csv(\"Real_estate.csv\")\n",
      "df.head()"
     ],
     "language": "python",
     "metadata": {},
     "outputs": [
      {
       "html": [
        "<div>\n",
        "<style scoped>\n",
        "    .dataframe tbody tr th:only-of-type {\n",
        "        vertical-align: middle;\n",
        "    }\n",
        "\n",
        "    .dataframe tbody tr th {\n",
        "        vertical-align: top;\n",
        "    }\n",
        "\n",
        "    .dataframe thead th {\n",
        "        text-align: right;\n",
        "    }\n",
        "</style>\n",
        "<table border=\"1\" class=\"dataframe\">\n",
        "  <thead>\n",
        "    <tr style=\"text-align: right;\">\n",
        "      <th></th>\n",
        "      <th>No</th>\n",
        "      <th>X1 transaction date</th>\n",
        "      <th>X2 house age</th>\n",
        "      <th>X3 distance to the nearest MRT station</th>\n",
        "      <th>X4 number of convenience stores</th>\n",
        "      <th>X5 latitude</th>\n",
        "      <th>X6 longitude</th>\n",
        "      <th>Y house price of unit area</th>\n",
        "    </tr>\n",
        "  </thead>\n",
        "  <tbody>\n",
        "    <tr>\n",
        "      <th>0</th>\n",
        "      <td>1</td>\n",
        "      <td>2012.917</td>\n",
        "      <td>32.0</td>\n",
        "      <td>84.87882</td>\n",
        "      <td>10</td>\n",
        "      <td>24.98298</td>\n",
        "      <td>121.54024</td>\n",
        "      <td>37.9</td>\n",
        "    </tr>\n",
        "    <tr>\n",
        "      <th>1</th>\n",
        "      <td>2</td>\n",
        "      <td>2012.917</td>\n",
        "      <td>19.5</td>\n",
        "      <td>306.59470</td>\n",
        "      <td>9</td>\n",
        "      <td>24.98034</td>\n",
        "      <td>121.53951</td>\n",
        "      <td>42.2</td>\n",
        "    </tr>\n",
        "    <tr>\n",
        "      <th>2</th>\n",
        "      <td>3</td>\n",
        "      <td>2013.583</td>\n",
        "      <td>13.3</td>\n",
        "      <td>561.98450</td>\n",
        "      <td>5</td>\n",
        "      <td>24.98746</td>\n",
        "      <td>121.54391</td>\n",
        "      <td>47.3</td>\n",
        "    </tr>\n",
        "    <tr>\n",
        "      <th>3</th>\n",
        "      <td>4</td>\n",
        "      <td>2013.500</td>\n",
        "      <td>13.3</td>\n",
        "      <td>561.98450</td>\n",
        "      <td>5</td>\n",
        "      <td>24.98746</td>\n",
        "      <td>121.54391</td>\n",
        "      <td>54.8</td>\n",
        "    </tr>\n",
        "    <tr>\n",
        "      <th>4</th>\n",
        "      <td>5</td>\n",
        "      <td>2012.833</td>\n",
        "      <td>5.0</td>\n",
        "      <td>390.56840</td>\n",
        "      <td>5</td>\n",
        "      <td>24.97937</td>\n",
        "      <td>121.54245</td>\n",
        "      <td>43.1</td>\n",
        "    </tr>\n",
        "  </tbody>\n",
        "</table>\n",
        "</div>"
       ],
       "output_type": "pyout",
       "prompt_number": 2,
       "text": [
        "   No  X1 transaction date  X2 house age  \\\n",
        "0   1             2012.917          32.0   \n",
        "1   2             2012.917          19.5   \n",
        "2   3             2013.583          13.3   \n",
        "3   4             2013.500          13.3   \n",
        "4   5             2012.833           5.0   \n",
        "\n",
        "   X3 distance to the nearest MRT station  X4 number of convenience stores  \\\n",
        "0                                84.87882                               10   \n",
        "1                               306.59470                                9   \n",
        "2                               561.98450                                5   \n",
        "3                               561.98450                                5   \n",
        "4                               390.56840                                5   \n",
        "\n",
        "   X5 latitude  X6 longitude  Y house price of unit area  \n",
        "0     24.98298     121.54024                        37.9  \n",
        "1     24.98034     121.53951                        42.2  \n",
        "2     24.98746     121.54391                        47.3  \n",
        "3     24.98746     121.54391                        54.8  \n",
        "4     24.97937     121.54245                        43.1  "
       ]
      }
     ],
     "prompt_number": 2
    },
    {
     "cell_type": "heading",
     "level": 3,
     "metadata": {},
     "source": [
      "Show more information about the dataset"
     ]
    },
    {
     "cell_type": "code",
     "collapsed": false,
     "input": [
      "df.info()"
     ],
     "language": "python",
     "metadata": {},
     "outputs": [
      {
       "output_type": "stream",
       "stream": "stdout",
       "text": [
        "<class 'pandas.core.frame.DataFrame'>\n",
        "RangeIndex: 414 entries, 0 to 413\n",
        "Data columns (total 8 columns):\n",
        " #   Column                                  Non-Null Count  Dtype  \n",
        "---  ------                                  --------------  -----  \n",
        " 0   No                                      414 non-null    int64  \n",
        " 1   X1 transaction date                     414 non-null    float64\n",
        " 2   X2 house age                            414 non-null    float64\n",
        " 3   X3 distance to the nearest MRT station  414 non-null    float64\n",
        " 4   X4 number of convenience stores         414 non-null    int64  \n",
        " 5   X5 latitude                             414 non-null    float64\n",
        " 6   X6 longitude                            414 non-null    float64\n",
        " 7   Y house price of unit area              414 non-null    float64\n",
        "dtypes: float64(6), int64(2)\n",
        "memory usage: 26.0 KB\n"
       ]
      }
     ],
     "prompt_number": 3
    },
    {
     "cell_type": "heading",
     "level": 3,
     "metadata": {},
     "source": [
      "Find how many samples are there and how many columns are there in the dataset"
     ]
    },
    {
     "cell_type": "code",
     "collapsed": false,
     "input": [
      "df.shape"
     ],
     "language": "python",
     "metadata": {},
     "outputs": [
      {
       "output_type": "pyout",
       "prompt_number": 4,
       "text": [
        "(414, 8)"
       ]
      }
     ],
     "prompt_number": 4
    },
    {
     "cell_type": "heading",
     "level": 3,
     "metadata": {},
     "source": [
      "What are the features available in the dataset?"
     ]
    },
    {
     "cell_type": "code",
     "collapsed": false,
     "input": [
      "df.columns"
     ],
     "language": "python",
     "metadata": {},
     "outputs": [
      {
       "output_type": "pyout",
       "prompt_number": 5,
       "text": [
        "Index(['No', 'X1 transaction date', 'X2 house age',\n",
        "       'X3 distance to the nearest MRT station',\n",
        "       'X4 number of convenience stores', 'X5 latitude', 'X6 longitude',\n",
        "       'Y house price of unit area'],\n",
        "      dtype='object')"
       ]
      }
     ],
     "prompt_number": 5
    },
    {
     "cell_type": "heading",
     "level": 3,
     "metadata": {},
     "source": [
      "Check if any features have missing data"
     ]
    },
    {
     "cell_type": "code",
     "collapsed": false,
     "input": [
      "df.isnull().sum()"
     ],
     "language": "python",
     "metadata": {},
     "outputs": [
      {
       "output_type": "pyout",
       "prompt_number": 6,
       "text": [
        "No                                        0\n",
        "X1 transaction date                       0\n",
        "X2 house age                              0\n",
        "X3 distance to the nearest MRT station    0\n",
        "X4 number of convenience stores           0\n",
        "X5 latitude                               0\n",
        "X6 longitude                              0\n",
        "Y house price of unit area                0\n",
        "dtype: int64"
       ]
      }
     ],
     "prompt_number": 6
    },
    {
     "cell_type": "heading",
     "level": 3,
     "metadata": {},
     "source": [
      "Group all the features as dependent features in X"
     ]
    },
    {
     "cell_type": "code",
     "collapsed": false,
     "input": [
      "X = df.iloc[:,:-1]\n",
      "X"
     ],
     "language": "python",
     "metadata": {},
     "outputs": [
      {
       "html": [
        "<div>\n",
        "<style scoped>\n",
        "    .dataframe tbody tr th:only-of-type {\n",
        "        vertical-align: middle;\n",
        "    }\n",
        "\n",
        "    .dataframe tbody tr th {\n",
        "        vertical-align: top;\n",
        "    }\n",
        "\n",
        "    .dataframe thead th {\n",
        "        text-align: right;\n",
        "    }\n",
        "</style>\n",
        "<table border=\"1\" class=\"dataframe\">\n",
        "  <thead>\n",
        "    <tr style=\"text-align: right;\">\n",
        "      <th></th>\n",
        "      <th>No</th>\n",
        "      <th>X1 transaction date</th>\n",
        "      <th>X2 house age</th>\n",
        "      <th>X3 distance to the nearest MRT station</th>\n",
        "      <th>X4 number of convenience stores</th>\n",
        "      <th>X5 latitude</th>\n",
        "      <th>X6 longitude</th>\n",
        "    </tr>\n",
        "  </thead>\n",
        "  <tbody>\n",
        "    <tr>\n",
        "      <th>0</th>\n",
        "      <td>1</td>\n",
        "      <td>2012.917</td>\n",
        "      <td>32.0</td>\n",
        "      <td>84.87882</td>\n",
        "      <td>10</td>\n",
        "      <td>24.98298</td>\n",
        "      <td>121.54024</td>\n",
        "    </tr>\n",
        "    <tr>\n",
        "      <th>1</th>\n",
        "      <td>2</td>\n",
        "      <td>2012.917</td>\n",
        "      <td>19.5</td>\n",
        "      <td>306.59470</td>\n",
        "      <td>9</td>\n",
        "      <td>24.98034</td>\n",
        "      <td>121.53951</td>\n",
        "    </tr>\n",
        "    <tr>\n",
        "      <th>2</th>\n",
        "      <td>3</td>\n",
        "      <td>2013.583</td>\n",
        "      <td>13.3</td>\n",
        "      <td>561.98450</td>\n",
        "      <td>5</td>\n",
        "      <td>24.98746</td>\n",
        "      <td>121.54391</td>\n",
        "    </tr>\n",
        "    <tr>\n",
        "      <th>3</th>\n",
        "      <td>4</td>\n",
        "      <td>2013.500</td>\n",
        "      <td>13.3</td>\n",
        "      <td>561.98450</td>\n",
        "      <td>5</td>\n",
        "      <td>24.98746</td>\n",
        "      <td>121.54391</td>\n",
        "    </tr>\n",
        "    <tr>\n",
        "      <th>4</th>\n",
        "      <td>5</td>\n",
        "      <td>2012.833</td>\n",
        "      <td>5.0</td>\n",
        "      <td>390.56840</td>\n",
        "      <td>5</td>\n",
        "      <td>24.97937</td>\n",
        "      <td>121.54245</td>\n",
        "    </tr>\n",
        "    <tr>\n",
        "      <th>...</th>\n",
        "      <td>...</td>\n",
        "      <td>...</td>\n",
        "      <td>...</td>\n",
        "      <td>...</td>\n",
        "      <td>...</td>\n",
        "      <td>...</td>\n",
        "      <td>...</td>\n",
        "    </tr>\n",
        "    <tr>\n",
        "      <th>409</th>\n",
        "      <td>410</td>\n",
        "      <td>2013.000</td>\n",
        "      <td>13.7</td>\n",
        "      <td>4082.01500</td>\n",
        "      <td>0</td>\n",
        "      <td>24.94155</td>\n",
        "      <td>121.50381</td>\n",
        "    </tr>\n",
        "    <tr>\n",
        "      <th>410</th>\n",
        "      <td>411</td>\n",
        "      <td>2012.667</td>\n",
        "      <td>5.6</td>\n",
        "      <td>90.45606</td>\n",
        "      <td>9</td>\n",
        "      <td>24.97433</td>\n",
        "      <td>121.54310</td>\n",
        "    </tr>\n",
        "    <tr>\n",
        "      <th>411</th>\n",
        "      <td>412</td>\n",
        "      <td>2013.250</td>\n",
        "      <td>18.8</td>\n",
        "      <td>390.96960</td>\n",
        "      <td>7</td>\n",
        "      <td>24.97923</td>\n",
        "      <td>121.53986</td>\n",
        "    </tr>\n",
        "    <tr>\n",
        "      <th>412</th>\n",
        "      <td>413</td>\n",
        "      <td>2013.000</td>\n",
        "      <td>8.1</td>\n",
        "      <td>104.81010</td>\n",
        "      <td>5</td>\n",
        "      <td>24.96674</td>\n",
        "      <td>121.54067</td>\n",
        "    </tr>\n",
        "    <tr>\n",
        "      <th>413</th>\n",
        "      <td>414</td>\n",
        "      <td>2013.500</td>\n",
        "      <td>6.5</td>\n",
        "      <td>90.45606</td>\n",
        "      <td>9</td>\n",
        "      <td>24.97433</td>\n",
        "      <td>121.54310</td>\n",
        "    </tr>\n",
        "  </tbody>\n",
        "</table>\n",
        "<p>414 rows \u00d7 7 columns</p>\n",
        "</div>"
       ],
       "output_type": "pyout",
       "prompt_number": 7,
       "text": [
        "      No  X1 transaction date  X2 house age  \\\n",
        "0      1             2012.917          32.0   \n",
        "1      2             2012.917          19.5   \n",
        "2      3             2013.583          13.3   \n",
        "3      4             2013.500          13.3   \n",
        "4      5             2012.833           5.0   \n",
        "..   ...                  ...           ...   \n",
        "409  410             2013.000          13.7   \n",
        "410  411             2012.667           5.6   \n",
        "411  412             2013.250          18.8   \n",
        "412  413             2013.000           8.1   \n",
        "413  414             2013.500           6.5   \n",
        "\n",
        "     X3 distance to the nearest MRT station  X4 number of convenience stores  \\\n",
        "0                                  84.87882                               10   \n",
        "1                                 306.59470                                9   \n",
        "2                                 561.98450                                5   \n",
        "3                                 561.98450                                5   \n",
        "4                                 390.56840                                5   \n",
        "..                                      ...                              ...   \n",
        "409                              4082.01500                                0   \n",
        "410                                90.45606                                9   \n",
        "411                               390.96960                                7   \n",
        "412                               104.81010                                5   \n",
        "413                                90.45606                                9   \n",
        "\n",
        "     X5 latitude  X6 longitude  \n",
        "0       24.98298     121.54024  \n",
        "1       24.98034     121.53951  \n",
        "2       24.98746     121.54391  \n",
        "3       24.98746     121.54391  \n",
        "4       24.97937     121.54245  \n",
        "..           ...           ...  \n",
        "409     24.94155     121.50381  \n",
        "410     24.97433     121.54310  \n",
        "411     24.97923     121.53986  \n",
        "412     24.96674     121.54067  \n",
        "413     24.97433     121.54310  \n",
        "\n",
        "[414 rows x 7 columns]"
       ]
      }
     ],
     "prompt_number": 7
    },
    {
     "cell_type": "heading",
     "level": 3,
     "metadata": {},
     "source": [
      "Group feature(s) as independent features in y"
     ]
    },
    {
     "cell_type": "code",
     "collapsed": false,
     "input": [
      "y = df.iloc[:,-1]\n",
      "y"
     ],
     "language": "python",
     "metadata": {},
     "outputs": [
      {
       "output_type": "pyout",
       "prompt_number": 8,
       "text": [
        "0      37.9\n",
        "1      42.2\n",
        "2      47.3\n",
        "3      54.8\n",
        "4      43.1\n",
        "       ... \n",
        "409    15.4\n",
        "410    50.0\n",
        "411    40.6\n",
        "412    52.5\n",
        "413    63.9\n",
        "Name: Y house price of unit area, Length: 414, dtype: float64"
       ]
      }
     ],
     "prompt_number": 8
    },
    {
     "cell_type": "heading",
     "level": 3,
     "metadata": {},
     "source": [
      "Split the dataset into train and test data"
     ]
    },
    {
     "cell_type": "code",
     "collapsed": false,
     "input": [
      "from sklearn.model_selection import train_test_split\n",
      "X_train, X_test, y_train, y_test = train_test_split(X,y, test_size = 0.05,random_state = 0)"
     ],
     "language": "python",
     "metadata": {},
     "outputs": [],
     "prompt_number": 9
    },
    {
     "cell_type": "heading",
     "level": 3,
     "metadata": {},
     "source": [
      "Choose the model (Linear Regression)"
     ]
    },
    {
     "cell_type": "code",
     "collapsed": false,
     "input": [
      "from sklearn.linear_model import LinearRegression"
     ],
     "language": "python",
     "metadata": {},
     "outputs": [],
     "prompt_number": 10
    },
    {
     "cell_type": "heading",
     "level": 3,
     "metadata": {},
     "source": [
      "Create an Estimator object"
     ]
    },
    {
     "cell_type": "code",
     "collapsed": false,
     "input": [
      "reg = LinearRegression()"
     ],
     "language": "python",
     "metadata": {},
     "outputs": [],
     "prompt_number": 11
    },
    {
     "cell_type": "heading",
     "level": 3,
     "metadata": {},
     "source": [
      "Train the model"
     ]
    },
    {
     "cell_type": "code",
     "collapsed": false,
     "input": [
      "reg.fit(X_train, y_train)"
     ],
     "language": "python",
     "metadata": {},
     "outputs": [
      {
       "output_type": "pyout",
       "prompt_number": 12,
       "text": [
        "LinearRegression()"
       ]
      }
     ],
     "prompt_number": 12
    },
    {
     "cell_type": "heading",
     "level": 3,
     "metadata": {},
     "source": [
      "Apply the model"
     ]
    },
    {
     "cell_type": "code",
     "collapsed": false,
     "input": [
      "y_pred = reg.predict(X_test)\n",
      "y_pred"
     ],
     "language": "python",
     "metadata": {},
     "outputs": [
      {
       "output_type": "pyout",
       "prompt_number": 13,
       "text": [
        "array([39.09184855, 12.82614768, 41.76173828, 12.09424855, 41.68156196,\n",
        "       39.36666405, 40.57898977, 33.8846898 , 50.05358688, 45.550874  ,\n",
        "       45.51385485, 40.95300388, 38.33135922, 39.89670897, 46.59039145,\n",
        "       38.21070994, 39.78636257, 40.74697578, 41.30341084, 42.31380145,\n",
        "       49.36104125])"
       ]
      }
     ],
     "prompt_number": 13
    },
    {
     "cell_type": "heading",
     "level": 3,
     "metadata": {},
     "source": [
      "Display the coefficients"
     ]
    },
    {
     "cell_type": "code",
     "collapsed": false,
     "input": [
      "reg.coef_"
     ],
     "language": "python",
     "metadata": {},
     "outputs": [
      {
       "output_type": "pyout",
       "prompt_number": 14,
       "text": [
        "array([-3.28281240e-03,  5.18980590e+00, -2.70389960e-01, -4.34076666e-03,\n",
        "        1.16918512e+00,  2.26156387e+02, -5.63794054e+00])"
       ]
      }
     ],
     "prompt_number": 14
    },
    {
     "cell_type": "heading",
     "level": 3,
     "metadata": {},
     "source": [
      "Find how well the trained model did with testing data"
     ]
    },
    {
     "cell_type": "code",
     "collapsed": false,
     "input": [
      "from sklearn.metrics import r2_score\n",
      "print('r2 Score : ', r2_score(y_test, y_pred))"
     ],
     "language": "python",
     "metadata": {},
     "outputs": [
      {
       "output_type": "stream",
       "stream": "stdout",
       "text": [
        "r2 Score :  0.7065810721724848\n"
       ]
      }
     ],
     "prompt_number": 15
    },
    {
     "cell_type": "heading",
     "level": 3,
     "metadata": {},
     "source": [
      "Plot House Age Vs Price"
     ]
    },
    {
     "cell_type": "code",
     "collapsed": false,
     "input": [
      "sns.regplot(x=\"X2 house age\", y=\"Y house price of unit area\", data=df);"
     ],
     "language": "python",
     "metadata": {},
     "outputs": [
      {
       "output_type": "display_data",
       "png": "[encoded data removed]",
       "text": [
        "<Figure size 432x288 with 1 Axes>"
       ]
      }
     ],
     "prompt_number": 16
    },
    {
     "cell_type": "heading",
     "level": 3,
     "metadata": {},
     "source": [
      "Plot Distance to MRT station Vs Price"
     ]
    },
    {
     "cell_type": "code",
     "collapsed": false,
     "input": [
      "sns.regplot(y=\"X3 distance to the nearest MRT station\", x=\"Y house price of unit area\", data=df);\n"
     ],
     "language": "python",
     "metadata": {},
     "outputs": [
      {
       "output_type": "display_data",
       "png": "[encoded data removed]",
       "text": [
        "<Figure size 432x288 with 1 Axes>"
       ]
      }
     ],
     "prompt_number": 17
    },
    {
     "cell_type": "heading",
     "level": 3,
     "metadata": {},
     "source": [
      "Plot Number of Convienience Stores Vs Price"
     ]
    },
    {
     "cell_type": "code",
     "collapsed": false,
     "input": [
      "sns.regplot(y=\"X4 number of convenience stores\", x=\"Y house price of unit area\", data=df);"
     ],
     "language": "python",
     "metadata": {},
     "outputs": [
      {
       "output_type": "display_data",
       "png": "[encoded data removed]",
       "text": [
        "<Figure size 432x288 with 1 Axes>"
       ]
      }
     ],
     "prompt_number": 18
    },
    {
     "cell_type": "code",
     "collapsed": false,
     "input": [],
     "language": "python",
     "metadata": {},
     "outputs": [],
     "prompt_number": 19
    },
    {
     "cell_type": "code",
     "collapsed": false,
     "input": [],
     "language": "python",
     "metadata": {},
     "outputs": [],
     "prompt_number": 19
    }
   ],
   "metadata": {}
  }
 ]
}
